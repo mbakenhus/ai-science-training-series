{
 "cells": [
  {
   "cell_type": "code",
   "execution_count": 1,
   "id": "662a93d1",
   "metadata": {},
   "outputs": [],
   "source": [
    "%load_ext autoreload\n",
    "%autoreload 2"
   ]
  },
  {
   "cell_type": "code",
   "execution_count": 2,
   "id": "e19878bb",
   "metadata": {},
   "outputs": [],
   "source": [
    "%matplotlib inline\n",
    "\n",
    "import tensorflow as tf\n",
    "\n",
    "import numpy\n",
    "import matplotlib.pyplot as plt"
   ]
  },
  {
   "cell_type": "code",
   "execution_count": 3,
   "id": "da412dba",
   "metadata": {},
   "outputs": [
    {
     "name": "stdout",
     "output_type": "stream",
     "text": [
      "(60000, 28, 28)\n",
      "(60000, 784)\n",
      "\n",
      "MNIST data loaded: train: 60000 test: 10000\n",
      "X_train: (60000, 784)\n",
      "y_train: (60000,)\n"
     ]
    }
   ],
   "source": [
    "# repeating the data prep from the previous notebook\n",
    "(x_train, y_train), (x_test, y_test) = tf.keras.datasets.mnist.load_data()\n",
    "x_train = x_train.astype(numpy.float32)\n",
    "x_test  = x_test.astype(numpy.float32)\n",
    "\n",
    "x_train /= 255.\n",
    "x_test  /= 255.\n",
    "\n",
    "print(x_train.shape)\n",
    "x_train = x_train.reshape(x_train.shape[0], numpy.prod(x_train[0,:,:].shape))\n",
    "x_test = x_test.reshape(x_test.shape[0], numpy.prod(x_test[0,:,:].shape))\n",
    "\n",
    "print(x_train.shape)\n",
    "y_train = y_train.astype(numpy.int32)\n",
    "y_test  = y_test.astype(numpy.int32)\n",
    "\n",
    "print()\n",
    "print('MNIST data loaded: train:',len(x_train),'test:',len(x_test))\n",
    "print('X_train:', x_train.shape)\n",
    "print('y_train:', y_train.shape)\n",
    "\n",
    "# one-hot encoding:\n",
    "nb_classes = 10\n",
    "y_train_onehot = tf.keras.utils.to_categorical(y_train, nb_classes)\n",
    "y_test_onehot = tf.keras.utils.to_categorical(y_test, nb_classes)"
   ]
  },
  {
   "cell_type": "code",
   "execution_count": 4,
   "id": "302994b1",
   "metadata": {},
   "outputs": [],
   "source": [
    "# Here we import an implementation of a two-layer neural network \n",
    "# this code is based on pieces of the first assignment from Stanford's CSE231n course, \n",
    "# hosted at https://github.com/cs231n/cs231n.github.io with the MIT license\n",
    "from fc_net import MultiLayerNet"
   ]
  },
  {
   "cell_type": "code",
   "execution_count": 5,
   "id": "4e00e3de",
   "metadata": {},
   "outputs": [],
   "source": [
    "num_features = x_train.shape[1] # this is the number of pixels\n",
    "# The weights are initialized from a normal distribution with standard deviation weight_scale\n",
    "model = MultiLayerNet(input_dim=num_features, hidden_dim=[2400,2400], num_classes=nb_classes, weight_scale=1.75, reg=1e-7)"
   ]
  },
  {
   "cell_type": "code",
   "execution_count": 6,
   "id": "32f7f1aa",
   "metadata": {},
   "outputs": [],
   "source": [
    "# here you can take a look if you want at the initial loss from an untrained network\n",
    "#loss, gradients = model.loss(x_train, y_train_onehot)"
   ]
  },
  {
   "cell_type": "code",
   "execution_count": 7,
   "id": "c43e3aa5",
   "metadata": {},
   "outputs": [],
   "source": [
    "# a simple implementation of stochastic gradient descent\n",
    "def sgd(model, gradients, learning_rate):\n",
    "    for l in range(0,model.layers):\n",
    "        w = model.params['W'][l]\n",
    "        b = model.params['b'][l]\n",
    "        dw = gradients['W'][l]\n",
    "        db = gradients['b'][l]\n",
    "        new_w = w - learning_rate * dw\n",
    "        new_b = b - learning_rate * db\n",
    "        model.params['W'][l] = new_w\n",
    "        model.params['b'][l] = new_b\n",
    "    return model"
   ]
  },
  {
   "cell_type": "code",
   "execution_count": 8,
   "id": "c8316228",
   "metadata": {},
   "outputs": [],
   "source": [
    "# one training step\n",
    "def learn(model, x_train, y_train_onehot, learning_rate):\n",
    "    loss, gradients = model.loss(x_train, y_train_onehot)\n",
    "    model = sgd(model, gradients, learning_rate)\n",
    "    return loss, model"
   ]
  },
  {
   "cell_type": "code",
   "execution_count": 9,
   "id": "81886e8c",
   "metadata": {},
   "outputs": [],
   "source": [
    "def accuracy(model, x, true_values):\n",
    "    scores = model.loss(x)\n",
    "    predictions = numpy.argmax(scores, axis=1)\n",
    "    N = predictions.shape[0]\n",
    "    acc = (true_values == predictions).sum() / N\n",
    "    return acc"
   ]
  },
  {
   "cell_type": "code",
   "execution_count": 10,
   "id": "49754891",
   "metadata": {},
   "outputs": [
    {
     "name": "stdout",
     "output_type": "stream",
     "text": [
      "epoch 0, loss 9.80930, accuracy 0.46\n",
      "epoch 1, loss 3.14096, accuracy 0.84\n",
      "epoch 2, loss 2.79935, accuracy 0.87\n",
      "epoch 3, loss 2.50626, accuracy 0.88\n",
      "epoch 4, loss 2.39267, accuracy 0.89\n",
      "epoch 5, loss 2.23190, accuracy 0.90\n",
      "epoch 6, loss 2.18038, accuracy 0.91\n",
      "epoch 7, loss 2.06637, accuracy 0.91\n",
      "epoch 8, loss 1.91741, accuracy 0.92\n",
      "epoch 9, loss 1.87297, accuracy 0.92\n",
      "epoch 10, loss 1.94342, accuracy 0.92\n",
      "epoch 11, loss 1.81769, accuracy 0.93\n",
      "epoch 12, loss 1.76772, accuracy 0.93\n",
      "epoch 13, loss 1.74744, accuracy 0.93\n",
      "epoch 14, loss 1.64088, accuracy 0.93\n",
      "epoch 15, loss 1.60170, accuracy 0.94\n",
      "epoch 16, loss 1.60226, accuracy 0.94\n",
      "epoch 17, loss 1.60757, accuracy 0.94\n",
      "epoch 18, loss 1.61136, accuracy 0.94\n",
      "epoch 19, loss 1.55943, accuracy 0.94\n"
     ]
    },
    {
     "data": {
      "text/plain": [
       "[<matplotlib.lines.Line2D at 0x2950ba5e260>]"
      ]
     },
     "execution_count": 10,
     "metadata": {},
     "output_type": "execute_result"
    },
    {
     "data": {
      "image/png": "[encoded data removed]",
      "text/plain": [
       "<Figure size 432x288 with 1 Axes>"
      ]
     },
     "metadata": {
      "needs_background": "light"
     },
     "output_type": "display_data"
    }
   ],
   "source": [
    "# Here's an example training loop using this two-layer model. Can you do better? \n",
    "learning_rate = 6e-3\n",
    "num_examples = x_train.shape[0]\n",
    "batch_size = 10000\n",
    "num_batches = int(num_examples / batch_size)\n",
    "num_epochs = 20 \n",
    "losses = numpy.zeros(num_batches*num_epochs,)\n",
    "indices = numpy.arange(num_examples)\n",
    "\n",
    "i = 0\n",
    "for epoch in range(0, num_epochs):\n",
    "    # in each epoch, we loop over all of the training examples\n",
    "    for step in range(0, num_batches):\n",
    "        # grabbing the next batch\n",
    "        offset = step * batch_size\n",
    "        batch_range = range(offset, offset+batch_size)\n",
    "        x_train_batch = x_train[batch_range, :]\n",
    "        y_train_batch = y_train_onehot[batch_range,:]\n",
    "        \n",
    "        # feed the next batch in to do one sgd step\n",
    "        loss, model = learn(model, x_train_batch, y_train_batch, learning_rate)\n",
    "        losses[i] = loss\n",
    "        i += 1\n",
    "    learning_rate *= 0.99\n",
    "    acc = accuracy(model, x_train, y_train)\n",
    "    print(\"epoch %d, loss %.5f, accuracy %.2f\" % (epoch, loss, acc))\n",
    "    \n",
    "    # reshuffle the data so that we get a new set of batches\n",
    "    numpy.random.shuffle(indices)\n",
    "    x_train = x_train[indices,:]\n",
    "    y_train = y_train[indices] # keep this shuffled the same way for use in accuracy calculation\n",
    "    y_train_onehot = y_train_onehot[indices,:]\n",
    "plt.plot(losses)"
   ]
  },
  {
   "cell_type": "code",
   "execution_count": 11,
   "id": "a4f274c6",
   "metadata": {},
   "outputs": [
    {
     "data": {
      "text/plain": [
       "0.9427666666666666"
      ]
     },
     "execution_count": 11,
     "metadata": {},
     "output_type": "execute_result"
    }
   ],
   "source": [
    "accuracy(model, x_train, y_train)"
   ]
  },
  {
   "cell_type": "markdown",
   "id": "a2dd5728",
   "metadata": {},
   "source": [
    "# Homework: improve the accuracy of this model. "
   ]
  },
  {
   "cell_type": "markdown",
   "id": "faaf0515",
   "metadata": {},
   "source": [
    "Update this notebook so that the accuracy is improved. How high can you get it? You could change things directly in the notebook, such as increasing the number of epochs, changing the learning weight, changing the width of the hidden layer, etc. If you're more ambitious, you could also try changing the model definition itself by checking out the associated Python files. For example, you could add more layers to the network. The current notebook has a training accuracy of about 43%, but will vary with randomness."
   ]
  },
  {
   "cell_type": "code",
   "execution_count": null,
   "id": "f272e066-206b-4538-9eb9-356bc1cc717e",
   "metadata": {},
   "outputs": [],
   "source": []
  }
 ],
 "metadata": {
  "kernelspec": {
   "display_name": "Python 3 (ipykernel)",
   "language": "python",
   "name": "python3"
  },
  "language_info": {
   "codemirror_mode": {
    "name": "ipython",
    "version": 3
   },
   "file_extension": ".py",
   "mimetype": "text/x-python",
   "name": "python",
   "nbconvert_exporter": "python",
   "pygments_lexer": "ipython3",
   "version": "3.10.0"
  }
 },
 "nbformat": 4,
 "nbformat_minor": 5
}
