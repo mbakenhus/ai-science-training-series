{
  "cells": [
    {
      "cell_type": "markdown",
      "metadata": {
        "id": "MXhWA1FgxI2z"
      },
      "source": [
        "# CIFAR-10 dataset classification with CNNs\n",
        "\n",
        "Author: Tanwi Mallick, adapting codes from Bethany Lusch, Prasanna Balprakash, Corey Adams, and Kyle Felker\n",
        "\n",
        "In this notebook, we'll continue the CIFAR-10 problem using the Keras API (as included in the TensorFlow library) and incorporating convolutional layers.\n",
        "\n",
        "First, the needed imports."
      ]
    },
    {
      "cell_type": "code",
      "execution_count": 1,
      "metadata": {
        "id": "wzAFUvfgxI22"
      },
      "outputs": [],
      "source": [
        "%matplotlib inline\n",
        "\n",
        "import tensorflow as tf\n",
        "\n",
        "import numpy\n",
        "import matplotlib.pyplot as plt\n",
        "import time"
      ]
    },
    {
      "cell_type": "markdown",
      "metadata": {
        "id": "rCn8D9MexI23"
      },
      "source": [
        "## CIFAR-10 data set\n",
        "\n",
        "Again we'll load the cifar10 data set. CIFAR-10 dataset contains 32x32 color images from 10 classes: airplane, automobile, bird, cat, deer, dog, frog, horse, ship, truck. If you haven't downloaded it already, it could take a while."
      ]
    },
    {
      "cell_type": "code",
      "execution_count": 2,
      "metadata": {
        "id": "QI02N4V3xI23"
      },
      "outputs": [],
      "source": [
        "(x_train, y_train), (x_test, y_test) = tf.keras.datasets.cifar10.load_data()\n",
        "x_train = x_train.astype(numpy.float32)\n",
        "x_test  = x_test.astype(numpy.float32)\n",
        "\n",
        "x_train /= 255.\n",
        "x_test  /= 255.\n",
        "\n",
        "y_train = y_train.astype(numpy.int32)\n",
        "y_test  = y_test.astype(numpy.int32)"
      ]
    },
    {
      "cell_type": "markdown",
      "metadata": {
        "id": "jsuQlPeSxI23"
      },
      "source": [
        "This time we won't flatten the images. \n",
        "\n",
        "The training data (`X_train`) is a 3rd-order tensor of size (50000, 32, 32), i.e. it consists of 50000 images of size 32x32 pixels. \n",
        "\n",
        "`y_train` is a 50000-dimensional vector containing the correct classes ('airplane', 'automobile', 'bird', 'cat', 'deer', 'dog', 'frog', 'horse', 'ship', 'truck') for each training sample."
      ]
    },
    {
      "cell_type": "markdown",
      "metadata": {
        "id": "jzyOoWNzxI24"
      },
      "source": [
        "## Convolutional neural network (CNN)\n",
        "\n",
        "CNN is a type of deep learning model for processing data that has a grid pattern, such as images.\n",
        "\n",
        "Let's use a small model that includes convolutional layers\n",
        "\n",
        "- The Conv2D layers operate on 2D matrices so we input the images directly to the model.\n",
        "    - The two Conv2D layers below learn 32 and 64 filters respectively. \n",
        "    - They are learning filters for 3x3 windows.\n",
        "- The MaxPooling2D layer reduces the spatial dimensions, that is, makes the image smaller.\n",
        "    - It downsamples by taking the maximum value in the window \n",
        "    - The pool size of (2, 2) below means the windows are 2x2. \n",
        "    - Helps in extracting important features and reduce computation\n",
        "- The Flatten layer flattens the 2D matrices into vectors, so we can then switch to Dense layers as in the MLP model.\n",
        "\n",
        "See https://keras.io/layers/convolutional/, https://keras.io/layers/pooling/ for more information."
      ]
    },
    {
      "cell_type": "markdown",
      "metadata": {
        "id": "e0Vs3PEIxI24"
      },
      "source": [
        "![conv layer](https://github.com/mbakenhus/ai-science-training-series/blob/main/03_neural_networks_tensorflow/images/conv_layer.png?raw=1)\n",
        "Image credit: [Jason Brownlee](https://machinelearningmastery.com/convolutional-layers-for-deep-learning-neural-networks/)"
      ]
    },
    {
      "cell_type": "markdown",
      "metadata": {
        "id": "ExSB0KBRxI24"
      },
      "source": [
        "![conv layer](https://github.com/mbakenhus/ai-science-training-series/blob/main/03_neural_networks_tensorflow/images/conv.png?raw=1)\n",
        "Image credit: [Anh H. Reynolds](https://anhreynolds.com/blogs/cnn.html)"
      ]
    },
    {
      "cell_type": "markdown",
      "metadata": {
        "id": "ZdiqOsRDxI25"
      },
      "source": [
        "\n",
        "<img src=\"https://github.com/mbakenhus/ai-science-training-series/blob/main/03_neural_networks_tensorflow/images/MaxpoolSample2.png?raw=1\" width=\"600\" hight=\"600\" align=\"left\"/>"
      ]
    },
    {
      "cell_type": "code",
      "execution_count": 3,
      "metadata": {
        "id": "fT_7QqAdxI25"
      },
      "outputs": [],
      "source": [
        "class CIFAR10Classifier(tf.keras.models.Model):\n",
        "\n",
        "    def __init__(self, activation=tf.nn.tanh):\n",
        "        tf.keras.models.Model.__init__(self)\n",
        "\n",
        "        self.conv_1 = tf.keras.layers.Conv2D(32, [3, 3], activation='relu')\n",
        "        self.conv_2 = tf.keras.layers.Conv2D(64, [3, 3], activation='relu')\n",
        "        self.pool_3 = tf.keras.layers.MaxPooling2D(pool_size=(2, 2))\n",
        "        self.drop_4 = tf.keras.layers.Dropout(0.25)\n",
        "        self.dense_5 = tf.keras.layers.Dense(128, activation='relu')\n",
        "        self.drop_6 = tf.keras.layers.Dropout(0.5)\n",
        "        self.dense_7 = tf.keras.layers.Dense(10, activation='softmax')\n",
        "\n",
        "    def call(self, inputs):\n",
        "\n",
        "        x = self.conv_1(inputs)\n",
        "        x = self.conv_2(x)\n",
        "        x = self.pool_3(x)\n",
        "        x = self.drop_4(x)\n",
        "        x = tf.keras.layers.Flatten()(x)\n",
        "        x = self.dense_5(x)\n",
        "        x = self.drop_6(x)\n",
        "        x = self.dense_7(x)\n",
        "\n",
        "        return x"
      ]
    },
    {
      "cell_type": "markdown",
      "metadata": {
        "id": "JBxQIT__xI25"
      },
      "source": [
        "### Simple training"
      ]
    },
    {
      "cell_type": "markdown",
      "metadata": {
        "id": "7M4jkbnLxI26"
      },
      "source": [
        "Here is a concise way to train the network, like we did in the previous notebook. We'll see a more verbose approach below that allows more performance tuning."
      ]
    },
    {
      "cell_type": "code",
      "execution_count": 4,
      "metadata": {
        "id": "3XZMt9bzxI26"
      },
      "outputs": [],
      "source": [
        "def train_network_concise(_batch_size, _n_training_epochs, _lr):\n",
        "\n",
        "    cnn_model = CIFAR10Classifier()\n",
        "\n",
        "    cnn_model.compile(loss=\"sparse_categorical_crossentropy\", optimizer=\"adam\", metrics=['accuracy'])\n",
        "    \n",
        "    history = cnn_model.fit(x_train, y_train, batch_size=_batch_size, epochs=_n_training_epochs)\n",
        "    return history, cnn_model"
      ]
    },
    {
      "cell_type": "code",
      "execution_count": 5,
      "metadata": {
        "colab": {
          "base_uri": "https://localhost:8080/"
        },
        "id": "HYuWSekvxI26",
        "outputId": "21057a24-be55-477f-d332-5a58a4b59825"
      },
      "outputs": [
        {
          "output_type": "stream",
          "name": "stdout",
          "text": [
            "Epoch 1/3\n",
            "98/98 [==============================] - 8s 40ms/step - loss: 1.7368 - accuracy: 0.3701\n",
            "Epoch 2/3\n",
            "98/98 [==============================] - 4s 37ms/step - loss: 1.3684 - accuracy: 0.5112\n",
            "Epoch 3/3\n",
            "98/98 [==============================] - 4s 37ms/step - loss: 1.2209 - accuracy: 0.5684\n"
          ]
        }
      ],
      "source": [
        "# This took 43 seconds per epoch on my laptop\n",
        "batch_size = 512\n",
        "epochs = 3\n",
        "lr = .01\n",
        "history, cnn_model = train_network_concise(batch_size, epochs, lr)"
      ]
    },
    {
      "cell_type": "markdown",
      "metadata": {
        "id": "b-6_8jn3xI26"
      },
      "source": [
        "Accuracy for test data.  The model should be better than the non-convolutional model even if you're only patient enough for three epochs. "
      ]
    },
    {
      "cell_type": "code",
      "execution_count": 6,
      "metadata": {
        "colab": {
          "base_uri": "https://localhost:8080/",
          "height": 437
        },
        "id": "-oTjbn6ZxI27",
        "outputId": "e417e066-6813-4dd2-8ebf-d584366f3b93"
      },
      "outputs": [
        {
          "output_type": "display_data",
          "data": {
            "text/plain": [
              "<Figure size 360x216 with 1 Axes>"
            ],
            "image/png": "[encoded data removed]"
          },
          "metadata": {
            "needs_background": "light"
          }
        },
        {
          "output_type": "display_data",
          "data": {
            "text/plain": [
              "<Figure size 360x216 with 1 Axes>"
            ],
            "image/png": "[encoded data removed]"
          },
          "metadata": {
            "needs_background": "light"
          }
        }
      ],
      "source": [
        "plt.figure(figsize=(5,3))\n",
        "plt.plot(history.epoch,history.history['loss'])\n",
        "plt.title('loss')\n",
        "\n",
        "plt.figure(figsize=(5,3))\n",
        "plt.plot(history.epoch,history.history['accuracy'])\n",
        "plt.title('accuracy');"
      ]
    },
    {
      "cell_type": "markdown",
      "metadata": {
        "id": "i3w_2thsxI27"
      },
      "source": [
        "### Inference"
      ]
    },
    {
      "cell_type": "markdown",
      "metadata": {
        "id": "Shyj3X-DxI27"
      },
      "source": [
        "With enough training epochs, the test accuracy should exceed 96.53%.\n",
        "\n",
        "You can compare your result with the state-of-the art [here](http://rodrigob.github.io/are_we_there_yet/build/classification_datasets_results.html). "
      ]
    },
    {
      "cell_type": "code",
      "execution_count": 7,
      "metadata": {
        "colab": {
          "base_uri": "https://localhost:8080/"
        },
        "id": "II-TdXd_xI27",
        "outputId": "4985ec7b-71cd-4445-990d-21cfbc9432f9"
      },
      "outputs": [
        {
          "output_type": "stream",
          "name": "stdout",
          "text": [
            "313/313 - 1s - loss: 1.0875 - accuracy: 0.6240 - 994ms/epoch - 3ms/step\n",
            "accuracy: 62.40%\n",
            "CPU times: user 1.19 s, sys: 166 ms, total: 1.36 s\n",
            "Wall time: 1.22 s\n"
          ]
        }
      ],
      "source": [
        "%%time\n",
        "x_test_reshaped = numpy.expand_dims(x_test, -1)\n",
        "scores = cnn_model.evaluate(x_test, y_test, verbose=2)\n",
        "print(\"%s: %.2f%%\" % (cnn_model.metrics_names[1], scores[1]*100))"
      ]
    },
    {
      "cell_type": "markdown",
      "metadata": {
        "id": "wKoP7foPxI27"
      },
      "source": [
        "We can also again check the confusion matrix"
      ]
    },
    {
      "cell_type": "code",
      "execution_count": 8,
      "metadata": {
        "colab": {
          "base_uri": "https://localhost:8080/"
        },
        "id": "1y74-N-LxI27",
        "outputId": "d32ef0f1-15be-4a0b-b1d8-399ac8931b84"
      },
      "outputs": [
        {
          "output_type": "stream",
          "name": "stdout",
          "text": [
            "Confusion matrix (rows: true classes; columns: predicted classes):\n",
            "\n",
            "[[747  20  72  21  10   4  16   5  77  28]\n",
            " [ 44 747  11  13   4   3  18   9  64  87]\n",
            " [ 91  10 470  99 100  69 103  26  20  12]\n",
            " [ 23  14  87 550  61 104 103  28  16  14]\n",
            " [ 44   7 124 112 479  20 143  59  11   1]\n",
            " [ 18   2  94 297  43 430  41  59  12   4]\n",
            " [ 12   6  53  78  29   8 798   6   8   2]\n",
            " [ 25   3  39  71  63  65  21 687   5  21]\n",
            " [155  47  16  25   5   3  12   4 704  29]\n",
            " [ 69 135  13  25   5   6  24  33  62 628]]\n",
            "\n",
            "Classification accuracy for each class:\n",
            "\n",
            "0: 0.7470\n",
            "1: 0.7470\n",
            "2: 0.4700\n",
            "3: 0.5500\n",
            "4: 0.4790\n",
            "5: 0.4300\n",
            "6: 0.7980\n",
            "7: 0.6870\n",
            "8: 0.7040\n",
            "9: 0.6280\n"
          ]
        }
      ],
      "source": [
        "from sklearn.metrics import confusion_matrix\n",
        "\n",
        "print('Confusion matrix (rows: true classes; columns: predicted classes):'); print()\n",
        "predictions = cnn_model.predict(x_test)\n",
        "cm=confusion_matrix(y_test, numpy.argmax(predictions, axis=1), labels=list(range(10)))\n",
        "print(cm); print()\n",
        "\n",
        "print('Classification accuracy for each class:'); print()\n",
        "for i,j in enumerate(cm.diagonal()/cm.sum(axis=1)): print(\"%d: %.4f\" % (i,j))"
      ]
    },
    {
      "cell_type": "markdown",
      "metadata": {
        "id": "Yzb92HMexI28"
      },
      "source": [
        "### More verbose training"
      ]
    },
    {
      "cell_type": "markdown",
      "metadata": {
        "id": "A0ZiEmEQxI28"
      },
      "source": [
        "This approach explicitly handles the looping over data. It will be helpful in future weeks for diving in and optimizing"
      ]
    },
    {
      "cell_type": "code",
      "execution_count": 9,
      "metadata": {
        "id": "mgaL8utKxI28"
      },
      "outputs": [],
      "source": [
        "def compute_loss(y_true, y_pred):\n",
        "    # if labels are integers, use sparse categorical crossentropy\n",
        "    # network's final layer is softmax, so from_logtis=False\n",
        "    scce = tf.keras.losses.SparseCategoricalCrossentropy(from_logits=False)\n",
        "    # if labels are one-hot encoded, use standard crossentropy\n",
        "\n",
        "    return scce(y_true, y_pred)  "
      ]
    },
    {
      "cell_type": "code",
      "execution_count": 10,
      "metadata": {
        "id": "X_WMO2TVxI28"
      },
      "outputs": [],
      "source": [
        "def forward_pass(model, batch_data, y_true):\n",
        "    y_pred = model(batch_data)\n",
        "    loss = compute_loss(y_true, y_pred)\n",
        "    return loss"
      ]
    },
    {
      "cell_type": "code",
      "execution_count": 11,
      "metadata": {
        "id": "OUqJwb5gxI28"
      },
      "outputs": [],
      "source": [
        "# Here is a function that will manage the training loop for us:\n",
        "\n",
        "def train_loop(batch_size, n_training_epochs, model, opt):\n",
        "    \n",
        "    @tf.function()\n",
        "    def train_iteration(data, y_true, model, opt):\n",
        "        with tf.GradientTape() as tape:\n",
        "            loss = forward_pass(model, data, y_true)\n",
        "\n",
        "        trainable_vars = model.trainable_variables\n",
        "\n",
        "        # Apply the update to the network (one at a time):\n",
        "        grads = tape.gradient(loss, trainable_vars)\n",
        "\n",
        "        opt.apply_gradients(zip(grads, trainable_vars))\n",
        "        return loss\n",
        "\n",
        "    for i_epoch in range(n_training_epochs):\n",
        "        print(\"beginning epoch %d\" % i_epoch)\n",
        "        start = time.time()\n",
        "\n",
        "        epoch_steps = int(50000/batch_size)\n",
        "        dataset.shuffle(50000) # Shuffle the whole dataset in memory\n",
        "        batches = dataset.batch(batch_size=batch_size, drop_remainder=True)\n",
        "        \n",
        "        for i_batch, (batch_data, y_true) in enumerate(batches):\n",
        "            batch_data = tf.reshape(batch_data, [-1, 32, 32, 3])\n",
        "            loss = train_iteration(batch_data, y_true, model, opt)\n",
        "            \n",
        "        end = time.time()\n",
        "        print(\"took %1.1f seconds for epoch #%d\" % (end-start, i_epoch))"
      ]
    },
    {
      "cell_type": "code",
      "execution_count": 12,
      "metadata": {
        "id": "0ss1jDpaxI28"
      },
      "outputs": [],
      "source": [
        "def train_network(_batch_size, _n_training_epochs, _lr):\n",
        "\n",
        "    cifar_model = CIFAR10Classifier()\n",
        "\n",
        "    opt = tf.keras.optimizers.Adam(_lr)\n",
        "\n",
        "    train_loop(_batch_size, _n_training_epochs, cifar_model, opt)"
      ]
    },
    {
      "cell_type": "code",
      "execution_count": 13,
      "metadata": {
        "id": "diTTEBGHxI28",
        "outputId": "a9ac8c09-cff4-470b-8f47-2d57a0266878",
        "colab": {
          "base_uri": "https://localhost:8080/"
        }
      },
      "outputs": [
        {
          "output_type": "stream",
          "name": "stdout",
          "text": [
            "beginning epoch 0\n",
            "took 3.1 seconds for epoch #0\n",
            "beginning epoch 1\n",
            "took 2.7 seconds for epoch #1\n",
            "beginning epoch 2\n",
            "took 5.4 seconds for epoch #2\n"
          ]
        }
      ],
      "source": [
        "dataset = tf.data.Dataset.from_tensor_slices((x_train, y_train))\n",
        "dataset.shuffle(50000)\n",
        "\n",
        "batch_size = 512\n",
        "epochs = 3\n",
        "lr = .01\n",
        "train_network(batch_size, epochs, lr)"
      ]
    },
    {
      "cell_type": "markdown",
      "metadata": {
        "id": "_hUk9xXkxI29"
      },
      "source": [
        "# Homework: improve the accuracy of this model"
      ]
    },
    {
      "cell_type": "markdown",
      "metadata": {
        "id": "Z19huaasxI29"
      },
      "source": [
        "Update this notebook to ensure more accuracy. How high can it be raised? Changes like increasing the number of epochs, altering the learning rate, altering the number of neurons the hidden layer, chnaging the optimizer, etc. could be made directly in the notebook. You can also change the model specification by expanding the network's layer. The current notebook's training accuracy is roughly 58.69%, although it varies randomly."
      ]
    },
    {
      "cell_type": "code",
      "execution_count": 14,
      "metadata": {
        "id": "KEw7fTpdxI29"
      },
      "outputs": [],
      "source": [
        "class CIFAR10Classifier(tf.keras.models.Model):\n",
        "\n",
        "    def __init__(self, activation=tf.nn.tanh):\n",
        "        tf.keras.models.Model.__init__(self)\n",
        "\n",
        "        self.conv_1 = tf.keras.layers.Conv2D(32, [3, 3], activation='relu')\n",
        "        self.pool_2 = tf.keras.layers.MaxPooling2D(pool_size=(2, 2))\n",
        "        self.conv_3 = tf.keras.layers.Conv2D(64, [3, 3], activation='relu')\n",
        "        self.pool_4 = tf.keras.layers.MaxPooling2D(pool_size=(2, 2))\n",
        "        self.drop_5 = tf.keras.layers.Dropout(0.25)\n",
        "        self.dense_6 = tf.keras.layers.Dense(512, activation='relu')\n",
        "        self.drop_7 = tf.keras.layers.Dropout(0.5)\n",
        "        self.dense_8 = tf.keras.layers.Dense(256, activation='relu')\n",
        "        self.drop_9 = tf.keras.layers.Dropout(0.25)\n",
        "        self.dense_10 = tf.keras.layers.Dense(10, activation='softmax')\n",
        "\n",
        "    def call(self, inputs):\n",
        "\n",
        "        x = self.conv_1(inputs)\n",
        "        x = self.pool_2(x)\n",
        "        x = self.conv_3(x)\n",
        "        x = self.pool_4(x)\n",
        "        x = self.drop_5(x)\n",
        "        x = tf.keras.layers.Flatten()(x)\n",
        "        x = self.dense_6(x)\n",
        "        x = self.drop_7(x)\n",
        "        x = self.dense_8(x)\n",
        "        x = self.drop_9(x)\n",
        "        x = self.dense_10(x)\n",
        "\n",
        "        return x"
      ]
    },
    {
      "cell_type": "code",
      "execution_count": 15,
      "metadata": {
        "id": "7p10TzhEyVu2"
      },
      "outputs": [],
      "source": [
        "def train_network_concise(_batch_size, _n_training_epochs, _lr=0.001, _beta_1=0.9, _beta_2=0.999, _eps=1e-07):\n",
        "\n",
        "    cnn_model = CIFAR10Classifier()\n",
        "\n",
        "    cnn_model.compile(loss=\"sparse_categorical_crossentropy\", \n",
        "                      optimizer=tf.keras.optimizers.Adam(\n",
        "                        learning_rate=_lr,\n",
        "                        beta_1=_beta_1,\n",
        "                        beta_2=_beta_2,\n",
        "                        epsilon=_eps), \n",
        "                      metrics=['accuracy'])\n",
        "    \n",
        "    history = cnn_model.fit(x_train, y_train, batch_size=_batch_size, epochs=_n_training_epochs)\n",
        "    return history, cnn_model"
      ]
    },
    {
      "cell_type": "code",
      "execution_count": 16,
      "metadata": {
        "outputId": "feb22801-679d-4e5b-b645-3c4b8be0d311",
        "colab": {
          "base_uri": "https://localhost:8080/"
        },
        "id": "qJ07JYLly1sG"
      },
      "outputs": [
        {
          "output_type": "stream",
          "name": "stdout",
          "text": [
            "Epoch 1/35\n",
            "200/200 [==============================] - 4s 14ms/step - loss: 1.7452 - accuracy: 0.3511\n",
            "Epoch 2/35\n",
            "200/200 [==============================] - 2s 12ms/step - loss: 1.4032 - accuracy: 0.4911\n",
            "Epoch 3/35\n",
            "200/200 [==============================] - 2s 9ms/step - loss: 1.2763 - accuracy: 0.5430\n",
            "Epoch 4/35\n",
            "200/200 [==============================] - 2s 9ms/step - loss: 1.1698 - accuracy: 0.5842\n",
            "Epoch 5/35\n",
            "200/200 [==============================] - 2s 9ms/step - loss: 1.0842 - accuracy: 0.6169\n",
            "Epoch 6/35\n",
            "200/200 [==============================] - 2s 9ms/step - loss: 1.0356 - accuracy: 0.6337\n",
            "Epoch 7/35\n",
            "200/200 [==============================] - 2s 9ms/step - loss: 0.9985 - accuracy: 0.6488\n",
            "Epoch 8/35\n",
            "200/200 [==============================] - 2s 9ms/step - loss: 0.9487 - accuracy: 0.6644\n",
            "Epoch 9/35\n",
            "200/200 [==============================] - 2s 9ms/step - loss: 0.9350 - accuracy: 0.6684\n",
            "Epoch 10/35\n",
            "200/200 [==============================] - 2s 9ms/step - loss: 0.9099 - accuracy: 0.6796\n",
            "Epoch 11/35\n",
            "200/200 [==============================] - 2s 9ms/step - loss: 0.8919 - accuracy: 0.6861\n",
            "Epoch 12/35\n",
            "200/200 [==============================] - 2s 9ms/step - loss: 0.8677 - accuracy: 0.6948\n",
            "Epoch 13/35\n",
            "200/200 [==============================] - 2s 9ms/step - loss: 0.8519 - accuracy: 0.6984\n",
            "Epoch 14/35\n",
            "200/200 [==============================] - 2s 9ms/step - loss: 0.8214 - accuracy: 0.7106\n",
            "Epoch 15/35\n",
            "200/200 [==============================] - 2s 9ms/step - loss: 0.8018 - accuracy: 0.7172\n",
            "Epoch 16/35\n",
            "200/200 [==============================] - 2s 9ms/step - loss: 0.7998 - accuracy: 0.7173\n",
            "Epoch 17/35\n",
            "200/200 [==============================] - 2s 9ms/step - loss: 0.7633 - accuracy: 0.7303\n",
            "Epoch 18/35\n",
            "200/200 [==============================] - 2s 12ms/step - loss: 0.7598 - accuracy: 0.7302\n",
            "Epoch 19/35\n",
            "200/200 [==============================] - 2s 9ms/step - loss: 0.7755 - accuracy: 0.7257\n",
            "Epoch 20/35\n",
            "200/200 [==============================] - 2s 9ms/step - loss: 0.7535 - accuracy: 0.7314\n",
            "Epoch 21/35\n",
            "200/200 [==============================] - 2s 9ms/step - loss: 0.7332 - accuracy: 0.7394\n",
            "Epoch 22/35\n",
            "200/200 [==============================] - 2s 9ms/step - loss: 0.7381 - accuracy: 0.7404\n",
            "Epoch 23/35\n",
            "200/200 [==============================] - 2s 9ms/step - loss: 0.7198 - accuracy: 0.7476\n",
            "Epoch 24/35\n",
            "200/200 [==============================] - 2s 9ms/step - loss: 0.7008 - accuracy: 0.7513\n",
            "Epoch 25/35\n",
            "200/200 [==============================] - 2s 9ms/step - loss: 0.6965 - accuracy: 0.7517\n",
            "Epoch 26/35\n",
            "200/200 [==============================] - 2s 9ms/step - loss: 0.6907 - accuracy: 0.7548\n",
            "Epoch 27/35\n",
            "200/200 [==============================] - 2s 9ms/step - loss: 0.6727 - accuracy: 0.7609\n",
            "Epoch 28/35\n",
            "200/200 [==============================] - 2s 9ms/step - loss: 0.6813 - accuracy: 0.7601\n",
            "Epoch 29/35\n",
            "200/200 [==============================] - 2s 9ms/step - loss: 0.6622 - accuracy: 0.7650\n",
            "Epoch 30/35\n",
            "200/200 [==============================] - 2s 9ms/step - loss: 0.6719 - accuracy: 0.7627\n",
            "Epoch 31/35\n",
            "200/200 [==============================] - 2s 9ms/step - loss: 0.6463 - accuracy: 0.7704\n",
            "Epoch 32/35\n",
            "200/200 [==============================] - 2s 9ms/step - loss: 0.6386 - accuracy: 0.7732\n",
            "Epoch 33/35\n",
            "200/200 [==============================] - 2s 9ms/step - loss: 0.6602 - accuracy: 0.7680\n",
            "Epoch 34/35\n",
            "200/200 [==============================] - 2s 9ms/step - loss: 0.6357 - accuracy: 0.7759\n",
            "Epoch 35/35\n",
            "200/200 [==============================] - 2s 9ms/step - loss: 0.6343 - accuracy: 0.7765\n"
          ]
        }
      ],
      "source": [
        "# This took 43 seconds per epoch on my laptop\n",
        "batch_size = 250\n",
        "epochs = 35\n",
        "lr = .0025\n",
        "beta1 = 0.985\n",
        "beta2 = 0.99985\n",
        "eps = 1e-06\n",
        "history, cnn_model = train_network_concise(batch_size, epochs, lr,beta1, beta2,eps)"
      ]
    },
    {
      "cell_type": "code",
      "execution_count": 17,
      "metadata": {
        "outputId": "f2549aaa-6332-49a3-c5fa-1701136c3f6b",
        "colab": {
          "base_uri": "https://localhost:8080/",
          "height": 437
        },
        "id": "6ABHP3Pv1161"
      },
      "outputs": [
        {
          "output_type": "display_data",
          "data": {
            "text/plain": [
              "<Figure size 360x216 with 1 Axes>"
            ],
            "image/png": "[encoded data removed]"
          },
          "metadata": {
            "needs_background": "light"
          }
        },
        {
          "output_type": "display_data",
          "data": {
            "text/plain": [
              "<Figure size 360x216 with 1 Axes>"
            ],
            "image/png": "[encoded data removed]"
          },
          "metadata": {
            "needs_background": "light"
          }
        }
      ],
      "source": [
        "plt.figure(figsize=(5,3))\n",
        "plt.plot(history.epoch,history.history['loss'])\n",
        "plt.title('loss')\n",
        "\n",
        "plt.figure(figsize=(5,3))\n",
        "plt.plot(history.epoch,history.history['accuracy'])\n",
        "plt.title('accuracy');"
      ]
    },
    {
      "cell_type": "code",
      "execution_count": 18,
      "metadata": {
        "outputId": "837253a9-9cc9-49be-8c5e-42fbcafe3e13",
        "colab": {
          "base_uri": "https://localhost:8080/"
        },
        "id": "_cDha7692B6W"
      },
      "outputs": [
        {
          "output_type": "stream",
          "name": "stdout",
          "text": [
            "313/313 - 1s - loss: 0.7794 - accuracy: 0.7354 - 851ms/epoch - 3ms/step\n",
            "accuracy: 73.54%\n",
            "CPU times: user 1.16 s, sys: 113 ms, total: 1.28 s\n",
            "Wall time: 1.54 s\n"
          ]
        }
      ],
      "source": [
        "%%time\n",
        "x_test_reshaped = numpy.expand_dims(x_test, -1)\n",
        "scores = cnn_model.evaluate(x_test, y_test, verbose=2)\n",
        "print(\"%s: %.2f%%\" % (cnn_model.metrics_names[1], scores[1]*100))"
      ]
    },
    {
      "cell_type": "code",
      "execution_count": 19,
      "metadata": {
        "outputId": "2342b088-e4d1-4a29-afb3-9f9889dce0bf",
        "colab": {
          "base_uri": "https://localhost:8080/"
        },
        "id": "9emqVn142IBe"
      },
      "outputs": [
        {
          "output_type": "stream",
          "name": "stdout",
          "text": [
            "Confusion matrix (rows: true classes; columns: predicted classes):\n",
            "\n",
            "[[797  14  32  22  11   6  11  11  75  21]\n",
            " [ 16 859   4   5   4   6  10   2  35  59]\n",
            " [ 76   8 585  47 109  44  81  24  19   7]\n",
            " [ 20   8  65 522  87 131 108  31  12  16]\n",
            " [ 23   1  55  38 713  22  80  50  16   2]\n",
            " [ 11   5  44 203  59 585  40  40   8   5]\n",
            " [  5   4  35  27  39   7 872   3   6   2]\n",
            " [ 13   5  34  36  67  39  12 786   1   7]\n",
            " [ 57  31   6  10   9   2  12   6 847  20]\n",
            " [ 37  94   7  14   4   4   8  14  30 788]]\n",
            "\n",
            "Classification accuracy for each class:\n",
            "\n",
            "0: 0.7970\n",
            "1: 0.8590\n",
            "2: 0.5850\n",
            "3: 0.5220\n",
            "4: 0.7130\n",
            "5: 0.5850\n",
            "6: 0.8720\n",
            "7: 0.7860\n",
            "8: 0.8470\n",
            "9: 0.7880\n"
          ]
        }
      ],
      "source": [
        "print('Confusion matrix (rows: true classes; columns: predicted classes):'); print()\n",
        "predictions = cnn_model.predict(x_test)\n",
        "cm=confusion_matrix(y_test, numpy.argmax(predictions, axis=1), labels=list(range(10)))\n",
        "print(cm); print()\n",
        "\n",
        "print('Classification accuracy for each class:'); print()\n",
        "for i,j in enumerate(cm.diagonal()/cm.sum(axis=1)): print(\"%d: %.4f\" % (i,j))"
      ]
    }
  ],
  "metadata": {
    "kernelspec": {
      "display_name": "Python 3",
      "language": "python",
      "name": "python3"
    },
    "language_info": {
      "codemirror_mode": {
        "name": "ipython",
        "version": 3
      },
      "file_extension": ".py",
      "mimetype": "text/x-python",
      "name": "python",
      "nbconvert_exporter": "python",
      "pygments_lexer": "ipython3",
      "version": "3.7.3"
    },
    "colab": {
      "provenance": []
    },
    "accelerator": "GPU"
  },
  "nbformat": 4,
  "nbformat_minor": 0
}